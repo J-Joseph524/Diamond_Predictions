{
 "cells": [
  {
   "cell_type": "code",
   "execution_count": 1,
   "metadata": {},
   "outputs": [],
   "source": [
    "import pandas as pd\n",
    "import numpy as np\n",
    "import statsmodels.api as sm\n",
    "from statsmodels.formula.api import ols\n",
    "import matplotlib.pyplot as plt\n",
    "import seaborn as sns\n",
    "from scipy.stats.stats import pearsonr\n",
    "import scipy as sp\n",
    "from scipy import stats\n",
    "from scipy.stats import skew,norm\n",
    "from sklearn.model_selection import train_test_split\n",
    "from sklearn.linear_model import LinearRegression\n",
    "from sklearn.preprocessing import StandardScaler\n",
    "from sklearn.preprocessing import PolynomialFeatures\n",
    "plt.style.use('seaborn')\n",
    "from sklearn import metrics"
   ]
  },
  {
   "cell_type": "code",
   "execution_count": 40,
   "metadata": {},
   "outputs": [
    {
     "data": {
      "text/html": [
       "<div>\n",
       "<style scoped>\n",
       "    .dataframe tbody tr th:only-of-type {\n",
       "        vertical-align: middle;\n",
       "    }\n",
       "\n",
       "    .dataframe tbody tr th {\n",
       "        vertical-align: top;\n",
       "    }\n",
       "\n",
       "    .dataframe thead th {\n",
       "        text-align: right;\n",
       "    }\n",
       "</style>\n",
       "<table border=\"1\" class=\"dataframe\">\n",
       "  <thead>\n",
       "    <tr style=\"text-align: right;\">\n",
       "      <th></th>\n",
       "      <th>carat</th>\n",
       "      <th>cut</th>\n",
       "      <th>color</th>\n",
       "      <th>clarity</th>\n",
       "      <th>depth</th>\n",
       "      <th>table</th>\n",
       "      <th>price</th>\n",
       "      <th>Length_mm</th>\n",
       "      <th>Width_mm</th>\n",
       "      <th>Depth_mm</th>\n",
       "      <th>Ratio</th>\n",
       "    </tr>\n",
       "  </thead>\n",
       "  <tbody>\n",
       "    <tr>\n",
       "      <td>carat</td>\n",
       "      <td>1.000000</td>\n",
       "      <td>-0.134967</td>\n",
       "      <td>-0.291437</td>\n",
       "      <td>-0.352841</td>\n",
       "      <td>0.028224</td>\n",
       "      <td>0.181618</td>\n",
       "      <td>0.921591</td>\n",
       "      <td>0.975094</td>\n",
       "      <td>0.951722</td>\n",
       "      <td>0.953387</td>\n",
       "      <td>0.118238</td>\n",
       "    </tr>\n",
       "    <tr>\n",
       "      <td>cut</td>\n",
       "      <td>-0.134967</td>\n",
       "      <td>1.000000</td>\n",
       "      <td>0.020519</td>\n",
       "      <td>0.189175</td>\n",
       "      <td>-0.218055</td>\n",
       "      <td>-0.433405</td>\n",
       "      <td>-0.053491</td>\n",
       "      <td>-0.125565</td>\n",
       "      <td>-0.121462</td>\n",
       "      <td>-0.149323</td>\n",
       "      <td>-0.024523</td>\n",
       "    </tr>\n",
       "    <tr>\n",
       "      <td>color</td>\n",
       "      <td>-0.291437</td>\n",
       "      <td>0.020519</td>\n",
       "      <td>1.000000</td>\n",
       "      <td>-0.025631</td>\n",
       "      <td>-0.047279</td>\n",
       "      <td>-0.026465</td>\n",
       "      <td>-0.172511</td>\n",
       "      <td>-0.270287</td>\n",
       "      <td>-0.263584</td>\n",
       "      <td>-0.268227</td>\n",
       "      <td>-0.031592</td>\n",
       "    </tr>\n",
       "    <tr>\n",
       "      <td>clarity</td>\n",
       "      <td>-0.352841</td>\n",
       "      <td>0.189175</td>\n",
       "      <td>-0.025631</td>\n",
       "      <td>1.000000</td>\n",
       "      <td>-0.067384</td>\n",
       "      <td>-0.160327</td>\n",
       "      <td>-0.146800</td>\n",
       "      <td>-0.371999</td>\n",
       "      <td>-0.358420</td>\n",
       "      <td>-0.366952</td>\n",
       "      <td>-0.126955</td>\n",
       "    </tr>\n",
       "    <tr>\n",
       "      <td>depth</td>\n",
       "      <td>0.028224</td>\n",
       "      <td>-0.218055</td>\n",
       "      <td>-0.047279</td>\n",
       "      <td>-0.067384</td>\n",
       "      <td>1.000000</td>\n",
       "      <td>-0.295779</td>\n",
       "      <td>-0.010647</td>\n",
       "      <td>-0.025289</td>\n",
       "      <td>-0.029341</td>\n",
       "      <td>0.094924</td>\n",
       "      <td>0.049873</td>\n",
       "    </tr>\n",
       "    <tr>\n",
       "      <td>table</td>\n",
       "      <td>0.181618</td>\n",
       "      <td>-0.433405</td>\n",
       "      <td>-0.026465</td>\n",
       "      <td>-0.160327</td>\n",
       "      <td>-0.295779</td>\n",
       "      <td>1.000000</td>\n",
       "      <td>0.127134</td>\n",
       "      <td>0.195344</td>\n",
       "      <td>0.183760</td>\n",
       "      <td>0.150929</td>\n",
       "      <td>0.121812</td>\n",
       "    </tr>\n",
       "    <tr>\n",
       "      <td>price</td>\n",
       "      <td>0.921591</td>\n",
       "      <td>-0.053491</td>\n",
       "      <td>-0.172511</td>\n",
       "      <td>-0.146800</td>\n",
       "      <td>-0.010647</td>\n",
       "      <td>0.127134</td>\n",
       "      <td>1.000000</td>\n",
       "      <td>0.884435</td>\n",
       "      <td>0.865421</td>\n",
       "      <td>0.861249</td>\n",
       "      <td>0.074599</td>\n",
       "    </tr>\n",
       "    <tr>\n",
       "      <td>Length_mm</td>\n",
       "      <td>0.975094</td>\n",
       "      <td>-0.125565</td>\n",
       "      <td>-0.270287</td>\n",
       "      <td>-0.371999</td>\n",
       "      <td>-0.025289</td>\n",
       "      <td>0.195344</td>\n",
       "      <td>0.884435</td>\n",
       "      <td>1.000000</td>\n",
       "      <td>0.974701</td>\n",
       "      <td>0.970772</td>\n",
       "      <td>0.141480</td>\n",
       "    </tr>\n",
       "    <tr>\n",
       "      <td>Width_mm</td>\n",
       "      <td>0.951722</td>\n",
       "      <td>-0.121462</td>\n",
       "      <td>-0.263584</td>\n",
       "      <td>-0.358420</td>\n",
       "      <td>-0.029341</td>\n",
       "      <td>0.183760</td>\n",
       "      <td>0.865421</td>\n",
       "      <td>0.974701</td>\n",
       "      <td>1.000000</td>\n",
       "      <td>0.952006</td>\n",
       "      <td>0.001633</td>\n",
       "    </tr>\n",
       "    <tr>\n",
       "      <td>Depth_mm</td>\n",
       "      <td>0.953387</td>\n",
       "      <td>-0.149323</td>\n",
       "      <td>-0.268227</td>\n",
       "      <td>-0.366952</td>\n",
       "      <td>0.094924</td>\n",
       "      <td>0.150929</td>\n",
       "      <td>0.861249</td>\n",
       "      <td>0.970772</td>\n",
       "      <td>0.952006</td>\n",
       "      <td>1.000000</td>\n",
       "      <td>0.112408</td>\n",
       "    </tr>\n",
       "    <tr>\n",
       "      <td>Ratio</td>\n",
       "      <td>0.118238</td>\n",
       "      <td>-0.024523</td>\n",
       "      <td>-0.031592</td>\n",
       "      <td>-0.126955</td>\n",
       "      <td>0.049873</td>\n",
       "      <td>0.121812</td>\n",
       "      <td>0.074599</td>\n",
       "      <td>0.141480</td>\n",
       "      <td>0.001633</td>\n",
       "      <td>0.112408</td>\n",
       "      <td>1.000000</td>\n",
       "    </tr>\n",
       "  </tbody>\n",
       "</table>\n",
       "</div>"
      ],
      "text/plain": [
       "              carat       cut     color   clarity     depth     table  \\\n",
       "carat      1.000000 -0.134967 -0.291437 -0.352841  0.028224  0.181618   \n",
       "cut       -0.134967  1.000000  0.020519  0.189175 -0.218055 -0.433405   \n",
       "color     -0.291437  0.020519  1.000000 -0.025631 -0.047279 -0.026465   \n",
       "clarity   -0.352841  0.189175 -0.025631  1.000000 -0.067384 -0.160327   \n",
       "depth      0.028224 -0.218055 -0.047279 -0.067384  1.000000 -0.295779   \n",
       "table      0.181618 -0.433405 -0.026465 -0.160327 -0.295779  1.000000   \n",
       "price      0.921591 -0.053491 -0.172511 -0.146800 -0.010647  0.127134   \n",
       "Length_mm  0.975094 -0.125565 -0.270287 -0.371999 -0.025289  0.195344   \n",
       "Width_mm   0.951722 -0.121462 -0.263584 -0.358420 -0.029341  0.183760   \n",
       "Depth_mm   0.953387 -0.149323 -0.268227 -0.366952  0.094924  0.150929   \n",
       "Ratio      0.118238 -0.024523 -0.031592 -0.126955  0.049873  0.121812   \n",
       "\n",
       "              price  Length_mm  Width_mm  Depth_mm     Ratio  \n",
       "carat      0.921591   0.975094  0.951722  0.953387  0.118238  \n",
       "cut       -0.053491  -0.125565 -0.121462 -0.149323 -0.024523  \n",
       "color     -0.172511  -0.270287 -0.263584 -0.268227 -0.031592  \n",
       "clarity   -0.146800  -0.371999 -0.358420 -0.366952 -0.126955  \n",
       "depth     -0.010647  -0.025289 -0.029341  0.094924  0.049873  \n",
       "table      0.127134   0.195344  0.183760  0.150929  0.121812  \n",
       "price      1.000000   0.884435  0.865421  0.861249  0.074599  \n",
       "Length_mm  0.884435   1.000000  0.974701  0.970772  0.141480  \n",
       "Width_mm   0.865421   0.974701  1.000000  0.952006  0.001633  \n",
       "Depth_mm   0.861249   0.970772  0.952006  1.000000  0.112408  \n",
       "Ratio      0.074599   0.141480  0.001633  0.112408  1.000000  "
      ]
     },
     "execution_count": 40,
     "metadata": {},
     "output_type": "execute_result"
    }
   ],
   "source": [
    "df_corr_matrix = df.corr() \n",
    "df_corr_matrix  #computed a correlation matrix for data set to see if it suggested that any features were collinear"
   ]
  },
  {
   "cell_type": "code",
   "execution_count": 185,
   "metadata": {},
   "outputs": [
    {
     "data": {
      "text/html": [
       "<table class=\"simpletable\">\n",
       "<caption>OLS Regression Results</caption>\n",
       "<tr>\n",
       "  <th>Dep. Variable:</th>          <td>price</td>      <th>  R-squared:         </th>  <td>   0.904</td>  \n",
       "</tr>\n",
       "<tr>\n",
       "  <th>Model:</th>                   <td>OLS</td>       <th>  Adj. R-squared:    </th>  <td>   0.904</td>  \n",
       "</tr>\n",
       "<tr>\n",
       "  <th>Method:</th>             <td>Least Squares</td>  <th>  F-statistic:       </th>  <td>1.272e+05</td> \n",
       "</tr>\n",
       "<tr>\n",
       "  <th>Date:</th>             <td>Fri, 08 May 2020</td> <th>  Prob (F-statistic):</th>   <td>  0.00</td>   \n",
       "</tr>\n",
       "<tr>\n",
       "  <th>Time:</th>                 <td>02:45:25</td>     <th>  Log-Likelihood:    </th> <td>-4.6053e+05</td>\n",
       "</tr>\n",
       "<tr>\n",
       "  <th>No. Observations:</th>      <td> 53940</td>      <th>  AIC:               </th>  <td>9.211e+05</td> \n",
       "</tr>\n",
       "<tr>\n",
       "  <th>Df Residuals:</th>          <td> 53935</td>      <th>  BIC:               </th>  <td>9.211e+05</td> \n",
       "</tr>\n",
       "<tr>\n",
       "  <th>Df Model:</th>              <td>     4</td>      <th>                     </th>      <td> </td>     \n",
       "</tr>\n",
       "<tr>\n",
       "  <th>Covariance Type:</th>      <td>nonrobust</td>    <th>                     </th>      <td> </td>     \n",
       "</tr>\n",
       "</table>\n",
       "<table class=\"simpletable\">\n",
       "<tr>\n",
       "      <td></td>         <th>coef</th>     <th>std err</th>      <th>t</th>      <th>P>|t|</th>  <th>[0.025</th>    <th>0.975]</th>  \n",
       "</tr>\n",
       "<tr>\n",
       "  <th>Intercept</th> <td>-7218.5545</td> <td>   33.296</td> <td> -216.799</td> <td> 0.000</td> <td>-7283.815</td> <td>-7153.294</td>\n",
       "</tr>\n",
       "<tr>\n",
       "  <th>carat</th>     <td> 8783.7718</td> <td>   12.692</td> <td>  692.087</td> <td> 0.000</td> <td> 8758.896</td> <td> 8808.648</td>\n",
       "</tr>\n",
       "<tr>\n",
       "  <th>cut</th>       <td>  155.6999</td> <td>    4.863</td> <td>   32.014</td> <td> 0.000</td> <td>  146.167</td> <td>  165.232</td>\n",
       "</tr>\n",
       "<tr>\n",
       "  <th>color</th>     <td>  319.6727</td> <td>    3.302</td> <td>   96.808</td> <td> 0.000</td> <td>  313.200</td> <td>  326.145</td>\n",
       "</tr>\n",
       "<tr>\n",
       "  <th>clarity</th>   <td>  524.8435</td> <td>    3.527</td> <td>  148.799</td> <td> 0.000</td> <td>  517.930</td> <td>  531.757</td>\n",
       "</tr>\n",
       "</table>\n",
       "<table class=\"simpletable\">\n",
       "<tr>\n",
       "  <th>Omnibus:</th>       <td>10789.064</td> <th>  Durbin-Watson:     </th>  <td>   0.936</td> \n",
       "</tr>\n",
       "<tr>\n",
       "  <th>Prob(Omnibus):</th>  <td> 0.000</td>   <th>  Jarque-Bera (JB):  </th> <td>251931.502</td>\n",
       "</tr>\n",
       "<tr>\n",
       "  <th>Skew:</th>           <td> 0.366</td>   <th>  Prob(JB):          </th>  <td>    0.00</td> \n",
       "</tr>\n",
       "<tr>\n",
       "  <th>Kurtosis:</th>       <td>13.562</td>   <th>  Cond. No.          </th>  <td>    48.2</td> \n",
       "</tr>\n",
       "</table><br/><br/>Warnings:<br/>[1] Standard Errors assume that the covariance matrix of the errors is correctly specified."
      ],
      "text/plain": [
       "<class 'statsmodels.iolib.summary.Summary'>\n",
       "\"\"\"\n",
       "                            OLS Regression Results                            \n",
       "==============================================================================\n",
       "Dep. Variable:                  price   R-squared:                       0.904\n",
       "Model:                            OLS   Adj. R-squared:                  0.904\n",
       "Method:                 Least Squares   F-statistic:                 1.272e+05\n",
       "Date:                Fri, 08 May 2020   Prob (F-statistic):               0.00\n",
       "Time:                        02:45:25   Log-Likelihood:            -4.6053e+05\n",
       "No. Observations:               53940   AIC:                         9.211e+05\n",
       "Df Residuals:                   53935   BIC:                         9.211e+05\n",
       "Df Model:                           4                                         \n",
       "Covariance Type:            nonrobust                                         \n",
       "==============================================================================\n",
       "                 coef    std err          t      P>|t|      [0.025      0.975]\n",
       "------------------------------------------------------------------------------\n",
       "Intercept  -7218.5545     33.296   -216.799      0.000   -7283.815   -7153.294\n",
       "carat       8783.7718     12.692    692.087      0.000    8758.896    8808.648\n",
       "cut          155.6999      4.863     32.014      0.000     146.167     165.232\n",
       "color        319.6727      3.302     96.808      0.000     313.200     326.145\n",
       "clarity      524.8435      3.527    148.799      0.000     517.930     531.757\n",
       "==============================================================================\n",
       "Omnibus:                    10789.064   Durbin-Watson:                   0.936\n",
       "Prob(Omnibus):                  0.000   Jarque-Bera (JB):           251931.502\n",
       "Skew:                           0.366   Prob(JB):                         0.00\n",
       "Kurtosis:                      13.562   Cond. No.                         48.2\n",
       "==============================================================================\n",
       "\n",
       "Warnings:\n",
       "[1] Standard Errors assume that the covariance matrix of the errors is correctly specified.\n",
       "\"\"\""
      ]
     },
     "execution_count": 185,
     "metadata": {},
     "output_type": "execute_result"
    }
   ],
   "source": [
    "mlr_model = ols(formula = \"price ~ carat + cut + color + clarity\", data = df).fit()  #Without scaling the numbers\n",
    "mlr_model.summary()"
   ]
  },
  {
   "cell_type": "code",
   "execution_count": 48,
   "metadata": {},
   "outputs": [],
   "source": [
    "#Scaling the Model so the features are represented in standard deviations as opposed to it's normal numbers\n",
    "scaler = StandardScaler()\n",
    "scaler.fit(df)\n",
    "df_scaled = scaler.transform(df)\n",
    "df_scaled = pd.DataFrame(df_scaled)\n",
    "df_scaled.columns = list(df.columns)"
   ]
  },
  {
   "cell_type": "code",
   "execution_count": 50,
   "metadata": {},
   "outputs": [
    {
     "data": {
      "text/html": [
       "<table class=\"simpletable\">\n",
       "<caption>OLS Regression Results</caption>\n",
       "<tr>\n",
       "  <th>Dep. Variable:</th>          <td>price</td>      <th>  R-squared:         </th> <td>   0.904</td> \n",
       "</tr>\n",
       "<tr>\n",
       "  <th>Model:</th>                   <td>OLS</td>       <th>  Adj. R-squared:    </th> <td>   0.904</td> \n",
       "</tr>\n",
       "<tr>\n",
       "  <th>Method:</th>             <td>Least Squares</td>  <th>  F-statistic:       </th> <td>1.272e+05</td>\n",
       "</tr>\n",
       "<tr>\n",
       "  <th>Date:</th>             <td>Thu, 07 May 2020</td> <th>  Prob (F-statistic):</th>  <td>  0.00</td>  \n",
       "</tr>\n",
       "<tr>\n",
       "  <th>Time:</th>                 <td>16:57:57</td>     <th>  Log-Likelihood:    </th> <td> -13288.</td> \n",
       "</tr>\n",
       "<tr>\n",
       "  <th>No. Observations:</th>      <td> 53940</td>      <th>  AIC:               </th> <td>2.659e+04</td>\n",
       "</tr>\n",
       "<tr>\n",
       "  <th>Df Residuals:</th>          <td> 53935</td>      <th>  BIC:               </th> <td>2.663e+04</td>\n",
       "</tr>\n",
       "<tr>\n",
       "  <th>Df Model:</th>              <td>     4</td>      <th>                     </th>     <td> </td>    \n",
       "</tr>\n",
       "<tr>\n",
       "  <th>Covariance Type:</th>      <td>nonrobust</td>    <th>                     </th>     <td> </td>    \n",
       "</tr>\n",
       "</table>\n",
       "<table class=\"simpletable\">\n",
       "<tr>\n",
       "      <td></td>         <th>coef</th>     <th>std err</th>      <th>t</th>      <th>P>|t|</th>  <th>[0.025</th>    <th>0.975]</th>  \n",
       "</tr>\n",
       "<tr>\n",
       "  <th>Intercept</th> <td>-2.359e-16</td> <td>    0.001</td> <td>-1.77e-13</td> <td> 1.000</td> <td>   -0.003</td> <td>    0.003</td>\n",
       "</tr>\n",
       "<tr>\n",
       "  <th>carat</th>     <td>    1.0437</td> <td>    0.002</td> <td>  692.087</td> <td> 0.000</td> <td>    1.041</td> <td>    1.047</td>\n",
       "</tr>\n",
       "<tr>\n",
       "  <th>cut</th>       <td>    0.0436</td> <td>    0.001</td> <td>   32.014</td> <td> 0.000</td> <td>    0.041</td> <td>    0.046</td>\n",
       "</tr>\n",
       "<tr>\n",
       "  <th>color</th>     <td>    0.1363</td> <td>    0.001</td> <td>   96.808</td> <td> 0.000</td> <td>    0.134</td> <td>    0.139</td>\n",
       "</tr>\n",
       "<tr>\n",
       "  <th>clarity</th>   <td>    0.2167</td> <td>    0.001</td> <td>  148.799</td> <td> 0.000</td> <td>    0.214</td> <td>    0.220</td>\n",
       "</tr>\n",
       "</table>\n",
       "<table class=\"simpletable\">\n",
       "<tr>\n",
       "  <th>Omnibus:</th>       <td>10789.064</td> <th>  Durbin-Watson:     </th>  <td>   0.936</td> \n",
       "</tr>\n",
       "<tr>\n",
       "  <th>Prob(Omnibus):</th>  <td> 0.000</td>   <th>  Jarque-Bera (JB):  </th> <td>251931.502</td>\n",
       "</tr>\n",
       "<tr>\n",
       "  <th>Skew:</th>           <td> 0.366</td>   <th>  Prob(JB):          </th>  <td>    0.00</td> \n",
       "</tr>\n",
       "<tr>\n",
       "  <th>Kurtosis:</th>       <td>13.562</td>   <th>  Cond. No.          </th>  <td>    1.70</td> \n",
       "</tr>\n",
       "</table><br/><br/>Warnings:<br/>[1] Standard Errors assume that the covariance matrix of the errors is correctly specified."
      ],
      "text/plain": [
       "<class 'statsmodels.iolib.summary.Summary'>\n",
       "\"\"\"\n",
       "                            OLS Regression Results                            \n",
       "==============================================================================\n",
       "Dep. Variable:                  price   R-squared:                       0.904\n",
       "Model:                            OLS   Adj. R-squared:                  0.904\n",
       "Method:                 Least Squares   F-statistic:                 1.272e+05\n",
       "Date:                Thu, 07 May 2020   Prob (F-statistic):               0.00\n",
       "Time:                        16:57:57   Log-Likelihood:                -13288.\n",
       "No. Observations:               53940   AIC:                         2.659e+04\n",
       "Df Residuals:                   53935   BIC:                         2.663e+04\n",
       "Df Model:                           4                                         \n",
       "Covariance Type:            nonrobust                                         \n",
       "==============================================================================\n",
       "                 coef    std err          t      P>|t|      [0.025      0.975]\n",
       "------------------------------------------------------------------------------\n",
       "Intercept  -2.359e-16      0.001  -1.77e-13      1.000      -0.003       0.003\n",
       "carat          1.0437      0.002    692.087      0.000       1.041       1.047\n",
       "cut            0.0436      0.001     32.014      0.000       0.041       0.046\n",
       "color          0.1363      0.001     96.808      0.000       0.134       0.139\n",
       "clarity        0.2167      0.001    148.799      0.000       0.214       0.220\n",
       "==============================================================================\n",
       "Omnibus:                    10789.064   Durbin-Watson:                   0.936\n",
       "Prob(Omnibus):                  0.000   Jarque-Bera (JB):           251931.502\n",
       "Skew:                           0.366   Prob(JB):                         0.00\n",
       "Kurtosis:                      13.562   Cond. No.                         1.70\n",
       "==============================================================================\n",
       "\n",
       "Warnings:\n",
       "[1] Standard Errors assume that the covariance matrix of the errors is correctly specified.\n",
       "\"\"\""
      ]
     },
     "execution_count": 50,
     "metadata": {},
     "output_type": "execute_result"
    }
   ],
   "source": [
    "mlr_model = ols(formula = \"price ~ carat + cut + color + clarity\", data = df_scaled).fit()\n",
    "mlr_model.summary()"
   ]
  },
  {
   "cell_type": "code",
   "execution_count": 57,
   "metadata": {},
   "outputs": [],
   "source": [
    "target = df_scaled.price\n",
    "features = df_scaled.drop([\"price\", \"Ratio\"], axis = 1) #dropped Ratio in addition because I realized it wasn't as useful"
   ]
  },
  {
   "cell_type": "code",
   "execution_count": 58,
   "metadata": {},
   "outputs": [],
   "source": [
    "X_train, X_test, y_train, y_test = train_test_split(features, target, train_size = 0.8, test_size = 0.2, random_state = 15)"
   ]
  },
  {
   "cell_type": "code",
   "execution_count": 54,
   "metadata": {},
   "outputs": [
    {
     "data": {
      "text/plain": [
       "Index(['carat', 'cut', 'color', 'clarity', 'depth', 'table', 'Length_mm',\n",
       "       'Width_mm', 'Depth_mm'],\n",
       "      dtype='object')"
      ]
     },
     "execution_count": 54,
     "metadata": {},
     "output_type": "execute_result"
    }
   ],
   "source": [
    "X_train.columns"
   ]
  },
  {
   "cell_type": "code",
   "execution_count": 62,
   "metadata": {},
   "outputs": [],
   "source": [
    "## training the model\n",
    "from sklearn.linear_model import Lasso\n",
    "\n",
    "lasso = Lasso(alpha = 0.01, normalize = False)\n",
    "\n",
    "lasso = lasso.fit(X_train, (y_train))\n",
    "\n",
    "y_train_pred = lasso.predict(X_train)\n",
    "\n",
    "train_mae = metrics.mean_absolute_error(y_train, (y_train_pred))  #getting the mean absolute error\n",
    "train_mse = metrics.mean_squared_error(y_train, (y_train_pred))   #getting the mean squared error\n",
    "train_rmse = np.sqrt(metrics.mean_squared_error(y_train, (y_train_pred)))  #getting the root mean squared error"
   ]
  },
  {
   "cell_type": "code",
   "execution_count": 63,
   "metadata": {},
   "outputs": [
    {
     "name": "stdout",
     "output_type": "stream",
     "text": [
      "0.21042431537527861\n",
      "0.09559166947418488\n",
      "0.309179024958332\n"
     ]
    }
   ],
   "source": [
    "print(train_mae)\n",
    "print(train_mse)\n",
    "print(train_rmse)"
   ]
  },
  {
   "cell_type": "code",
   "execution_count": 66,
   "metadata": {},
   "outputs": [
    {
     "name": "stdout",
     "output_type": "stream",
     "text": [
      "R^2 Score: 0.9042486341262427\n"
     ]
    }
   ],
   "source": [
    "print (\"R^2 Score:\", lasso.score(X_train, (y_train)))  #getting the R^2 value"
   ]
  },
  {
   "cell_type": "code",
   "execution_count": 65,
   "metadata": {},
   "outputs": [],
   "source": [
    "y_pred = lasso.predict(X_test)"
   ]
  },
  {
   "cell_type": "code",
   "execution_count": 75,
   "metadata": {},
   "outputs": [],
   "source": [
    "test_mae = metrics.mean_absolute_error(y_test, y_pred)\n",
    "test_mse = (metrics.mean_squared_error(y_test, y_pred))\n",
    "test_rmse = np.sqrt(metrics.mean_squared_error(y_test, y_pred))"
   ]
  },
  {
   "cell_type": "code",
   "execution_count": 76,
   "metadata": {},
   "outputs": [
    {
     "name": "stdout",
     "output_type": "stream",
     "text": [
      "0.21317011521713228\n",
      "0.09967541209980615\n",
      "0.3157141303454854\n"
     ]
    }
   ],
   "source": [
    "print(test_mae)\n",
    "print(test_mse)\n",
    "print(test_rmse)"
   ]
  },
  {
   "cell_type": "code",
   "execution_count": 69,
   "metadata": {},
   "outputs": [],
   "source": [
    "## training the model\n",
    "from sklearn.linear_model import LinearRegression\n",
    "\n",
    "lm = LinearRegression()\n",
    "\n",
    "lm = lm.fit(X_train, (y_train))\n",
    "\n",
    "\n",
    "y_train_pred = lm.predict(X_train)\n",
    "\n",
    "train_mae = metrics.mean_absolute_error(y_train, (y_train_pred))  #getting the mean absolute error\n",
    "train_mse = metrics.mean_squared_error(y_train, (y_train_pred))   #getting the mean squared error\n",
    "train_rmse = np.sqrt(metrics.mean_squared_error(y_train, (y_train_pred)))  #getting the roort mean squared error"
   ]
  },
  {
   "cell_type": "code",
   "execution_count": 70,
   "metadata": {},
   "outputs": [
    {
     "name": "stdout",
     "output_type": "stream",
     "text": [
      "0.20123486730377438\n",
      "0.09209373418844573\n",
      "0.3034694946587642\n"
     ]
    }
   ],
   "source": [
    "print(train_mae)\n",
    "print(train_mse)\n",
    "print(train_rmse)"
   ]
  },
  {
   "cell_type": "code",
   "execution_count": 116,
   "metadata": {},
   "outputs": [
    {
     "name": "stdout",
     "output_type": "stream",
     "text": [
      "R^2 Score: 0.9077524130976726\n"
     ]
    }
   ],
   "source": [
    "print (\"R^2 Score:\", lm.score(X_train, (y_train)))  #getting the R^2 value"
   ]
  },
  {
   "cell_type": "code",
   "execution_count": 117,
   "metadata": {},
   "outputs": [],
   "source": [
    "y_pred = lm.predict(X_test)"
   ]
  },
  {
   "cell_type": "code",
   "execution_count": 118,
   "metadata": {},
   "outputs": [],
   "source": [
    "test_mae = metrics.mean_absolute_error(y_test, y_pred)\n",
    "test_mse = (metrics.mean_squared_error(y_test, y_pred))\n",
    "test_rmse = np.sqrt(metrics.mean_squared_error(y_test, y_pred))"
   ]
  },
  {
   "cell_type": "code",
   "execution_count": 119,
   "metadata": {},
   "outputs": [
    {
     "name": "stdout",
     "output_type": "stream",
     "text": [
      "0.20438958057244488\n",
      "0.09709165628967366\n",
      "0.3115953406096979\n"
     ]
    }
   ],
   "source": [
    "print(test_mae)\n",
    "print(test_mse)\n",
    "print(test_rmse)"
   ]
  },
  {
   "cell_type": "code",
   "execution_count": 187,
   "metadata": {},
   "outputs": [
    {
     "data": {
      "text/plain": [
       "0.31054980576001195"
      ]
     },
     "execution_count": 187,
     "metadata": {},
     "output_type": "execute_result"
    }
   ],
   "source": [
    "sd = test_rmse / y_test.std()  #shows how many standard deviations the average error is away from the true value\n",
    "sd"
   ]
  },
  {
   "cell_type": "code",
   "execution_count": 77,
   "metadata": {},
   "outputs": [
    {
     "data": {
      "text/plain": [
       "array([ 1.27718005,  0.03467103,  0.1375983 ,  0.20645464, -0.02883154,\n",
       "       -0.01433144, -0.29421679,  0.05709798, -0.00200008])"
      ]
     },
     "execution_count": 77,
     "metadata": {},
     "output_type": "execute_result"
    }
   ],
   "source": [
    "lm.coef_ #wanted to see the different coefficients from my features "
   ]
  },
  {
   "cell_type": "code",
   "execution_count": 114,
   "metadata": {},
   "outputs": [
    {
     "data": {
      "text/html": [
       "<div>\n",
       "<style scoped>\n",
       "    .dataframe tbody tr th:only-of-type {\n",
       "        vertical-align: middle;\n",
       "    }\n",
       "\n",
       "    .dataframe tbody tr th {\n",
       "        vertical-align: top;\n",
       "    }\n",
       "\n",
       "    .dataframe thead th {\n",
       "        text-align: right;\n",
       "    }\n",
       "</style>\n",
       "<table border=\"1\" class=\"dataframe\">\n",
       "  <thead>\n",
       "    <tr style=\"text-align: right;\">\n",
       "      <th></th>\n",
       "      <th>carat</th>\n",
       "      <th>cut</th>\n",
       "      <th>color</th>\n",
       "      <th>clarity</th>\n",
       "      <th>depth</th>\n",
       "      <th>table</th>\n",
       "      <th>Length_mm</th>\n",
       "      <th>Width_mm</th>\n",
       "      <th>Depth_mm</th>\n",
       "    </tr>\n",
       "  </thead>\n",
       "  <tbody>\n",
       "    <tr>\n",
       "      <td>1</td>\n",
       "      <td>0.23</td>\n",
       "      <td>5</td>\n",
       "      <td>6</td>\n",
       "      <td>2</td>\n",
       "      <td>61.5</td>\n",
       "      <td>55.0</td>\n",
       "      <td>3.95</td>\n",
       "      <td>3.98</td>\n",
       "      <td>2.43</td>\n",
       "    </tr>\n",
       "    <tr>\n",
       "      <td>2</td>\n",
       "      <td>0.21</td>\n",
       "      <td>4</td>\n",
       "      <td>6</td>\n",
       "      <td>3</td>\n",
       "      <td>59.8</td>\n",
       "      <td>61.0</td>\n",
       "      <td>3.89</td>\n",
       "      <td>3.84</td>\n",
       "      <td>2.31</td>\n",
       "    </tr>\n",
       "    <tr>\n",
       "      <td>3</td>\n",
       "      <td>0.23</td>\n",
       "      <td>2</td>\n",
       "      <td>6</td>\n",
       "      <td>5</td>\n",
       "      <td>56.9</td>\n",
       "      <td>65.0</td>\n",
       "      <td>4.05</td>\n",
       "      <td>4.07</td>\n",
       "      <td>2.31</td>\n",
       "    </tr>\n",
       "    <tr>\n",
       "      <td>4</td>\n",
       "      <td>0.29</td>\n",
       "      <td>4</td>\n",
       "      <td>2</td>\n",
       "      <td>4</td>\n",
       "      <td>62.4</td>\n",
       "      <td>58.0</td>\n",
       "      <td>4.20</td>\n",
       "      <td>4.23</td>\n",
       "      <td>2.63</td>\n",
       "    </tr>\n",
       "    <tr>\n",
       "      <td>5</td>\n",
       "      <td>0.31</td>\n",
       "      <td>2</td>\n",
       "      <td>1</td>\n",
       "      <td>2</td>\n",
       "      <td>63.3</td>\n",
       "      <td>58.0</td>\n",
       "      <td>4.34</td>\n",
       "      <td>4.35</td>\n",
       "      <td>2.75</td>\n",
       "    </tr>\n",
       "  </tbody>\n",
       "</table>\n",
       "</div>"
      ],
      "text/plain": [
       "   carat  cut  color  clarity  depth  table  Length_mm  Width_mm  Depth_mm\n",
       "1   0.23    5      6        2   61.5   55.0       3.95      3.98      2.43\n",
       "2   0.21    4      6        3   59.8   61.0       3.89      3.84      2.31\n",
       "3   0.23    2      6        5   56.9   65.0       4.05      4.07      2.31\n",
       "4   0.29    4      2        4   62.4   58.0       4.20      4.23      2.63\n",
       "5   0.31    2      1        2   63.3   58.0       4.34      4.35      2.75"
      ]
     },
     "execution_count": 114,
     "metadata": {},
     "output_type": "execute_result"
    }
   ],
   "source": [
    "df2 = df.drop([\"price\", \"Ratio\"], axis = 1)  #creating a new Data Frame without my target or the column I created\n",
    "df2.head()"
   ]
  },
  {
   "cell_type": "code",
   "execution_count": 198,
   "metadata": {},
   "outputs": [],
   "source": [
    "#creating new polynomial features\n",
    "\n",
    "from sklearn.preprocessing import PolynomialFeatures\n",
    "\n",
    "polynomial_features = PolynomialFeatures(degree = 2)\n",
    "x_poly = polynomial_features.fit_transform(df2)\n",
    "\n",
    "polynomial_features = PolynomialFeatures(degree = 2)\n",
    "x_poly = polynomial_features.fit(df2)\n",
    "x_poly_df = pd.DataFrame(x_poly.transform(df2),columns = x_poly.get_feature_names(df2.columns))"
   ]
  },
  {
   "cell_type": "code",
   "execution_count": 202,
   "metadata": {},
   "outputs": [],
   "source": [
    "X_train2, X_test2, y_train2, y_test2 = train_test_split(x_poly_df, target, train_size = 0.8, test_size = 0.2, random_state = 15)"
   ]
  },
  {
   "cell_type": "code",
   "execution_count": 203,
   "metadata": {},
   "outputs": [],
   "source": [
    "from sklearn.linear_model import LinearRegression\n",
    "\n",
    "lm_poly = LinearRegression()\n",
    "\n",
    "lm_poly = lm.fit(X_train2, (y_train2))\n",
    "\n",
    "\n",
    "y_train_p = lm_poly.predict(X_train2)\n",
    "y_test_p = lm_poly.predict(X_test2)\n",
    "\n",
    "train_mae = metrics.mean_absolute_error(y_train2, (y_train_p))  #getting the mean absolute error\n",
    "train_mse = metrics.mean_squared_error(y_train2, (y_train_p))   #getting the mean squared error\n",
    "train_rmse = np.sqrt(metrics.mean_squared_error(y_train2, (y_train_p)))  #getting the roort mean squared error"
   ]
  },
  {
   "cell_type": "code",
   "execution_count": 204,
   "metadata": {},
   "outputs": [],
   "source": [
    "train_mae = metrics.mean_absolute_error(y_train2, (y_train_p))\n",
    "train_mse = metrics.mean_squared_error(y_train2, (y_train_p))\n",
    "train_rmse = np.sqrt(metrics.mean_squared_error(y_train2, (y_train_p)))"
   ]
  },
  {
   "cell_type": "code",
   "execution_count": 205,
   "metadata": {},
   "outputs": [
    {
     "name": "stdout",
     "output_type": "stream",
     "text": [
      "0.11382011498108593\n",
      "0.0356876433444278\n",
      "0.1889117342687526\n"
     ]
    }
   ],
   "source": [
    "print(train_mae)\n",
    "print(train_mse)\n",
    "print(train_rmse)"
   ]
  },
  {
   "cell_type": "code",
   "execution_count": 206,
   "metadata": {},
   "outputs": [
    {
     "name": "stdout",
     "output_type": "stream",
     "text": [
      "R^2 Score: 0.9642527365214887\n"
     ]
    }
   ],
   "source": [
    "print (\"R^2 Score:\", lm_poly.score(X_train2, (y_train2)))"
   ]
  },
  {
   "cell_type": "code",
   "execution_count": 207,
   "metadata": {},
   "outputs": [],
   "source": [
    "test_mae = metrics.mean_absolute_error(y_test2, y_test_p)\n",
    "test_mse = (metrics.mean_squared_error(y_test2, y_test_p))\n",
    "test_rmse = np.sqrt(metrics.mean_squared_error(y_test2, y_test_p))"
   ]
  },
  {
   "cell_type": "code",
   "execution_count": 208,
   "metadata": {},
   "outputs": [
    {
     "name": "stdout",
     "output_type": "stream",
     "text": [
      "0.12948847379656558\n",
      "2.0430209538550668\n",
      "1.4293428398586068\n"
     ]
    }
   ],
   "source": [
    "print(test_mae)\n",
    "print(test_mse)\n",
    "print(test_rmse)"
   ]
  },
  {
   "cell_type": "code",
   "execution_count": 209,
   "metadata": {},
   "outputs": [
    {
     "data": {
      "text/plain": [
       "Index(['1', 'carat', 'cut', 'color', 'clarity', 'depth', 'table', 'Length_mm',\n",
       "       'Width_mm', 'Depth_mm', 'carat^2', 'carat cut', 'carat color',\n",
       "       'carat clarity', 'carat depth', 'carat table', 'carat Length_mm',\n",
       "       'carat Width_mm', 'carat Depth_mm', 'cut^2', 'cut color', 'cut clarity',\n",
       "       'cut depth', 'cut table', 'cut Length_mm', 'cut Width_mm',\n",
       "       'cut Depth_mm', 'color^2', 'color clarity', 'color depth',\n",
       "       'color table', 'color Length_mm', 'color Width_mm', 'color Depth_mm',\n",
       "       'clarity^2', 'clarity depth', 'clarity table', 'clarity Length_mm',\n",
       "       'clarity Width_mm', 'clarity Depth_mm', 'depth^2', 'depth table',\n",
       "       'depth Length_mm', 'depth Width_mm', 'depth Depth_mm', 'table^2',\n",
       "       'table Length_mm', 'table Width_mm', 'table Depth_mm', 'Length_mm^2',\n",
       "       'Length_mm Width_mm', 'Length_mm Depth_mm', 'Width_mm^2',\n",
       "       'Width_mm Depth_mm', 'Depth_mm^2'],\n",
       "      dtype='object')"
      ]
     },
     "execution_count": 209,
     "metadata": {},
     "output_type": "execute_result"
    }
   ],
   "source": [
    "x_poly_df.columns  #wanted to see all the new features"
   ]
  },
  {
   "cell_type": "code",
   "execution_count": 182,
   "metadata": {},
   "outputs": [
    {
     "data": {
      "text/plain": [
       "55"
      ]
     },
     "execution_count": 182,
     "metadata": {},
     "output_type": "execute_result"
    }
   ],
   "source": [
    "len(x_poly_df.columns)  #wanted to see the length of all the new features"
   ]
  },
  {
   "cell_type": "markdown",
   "metadata": {},
   "source": [
    "My approach to this project was to first find a data set of diamonds that I could work with that had enough columns(features) for me to engineer with so that I could make the best possible prediction model.  I had some prior background knowledge on diamonds and jewelry in general, however I wanted to put that to the test to see if my predictions of certain features would directly influence my target variable which was price.  I was also keeping in mind the entire time the different types of graphs I could use to help visualize my various correlations.  "
   ]
  },
  {
   "cell_type": "markdown",
   "metadata": {},
   "source": [
    "The final model I decided to use to best predict the price of diamonds is my OLS Model.  My R^2 value was very similar for all four of my models however my OLS Model had the least amount of features which is ideal for a better fitting prediction model.  One feature that had a significant impact on our dependent variable of price was color of the diamond.  The coefficient for color was 0.1363 standard deviations which is a strong number.  For every grade of color that went up the price would increase by approximately 319.67 dollars.  A second feature that had a significant impact on price was clarity of the diamond.  The coefficient for clarity was 0.2167 standard deviations which is also a strong number.  For every grade of clarity that went up the price would increase by roughly 524.84 dollars.  The final and most significant feature that effected price was carat weight of the diamond.  The coefficient for carat was 1.0437 standard deviations which is the highest of the other two and all other features from this data set.  For every increase in carat weight, the price goes up by about 8,783.77 dollars.  All of these features had a P value under 0.05 which means that they are all statistically significant.  From this, we can say that we are 95 percent confident that our data is valuable the model because it effects price."
   ]
  },
  {
   "cell_type": "code",
   "execution_count": null,
   "metadata": {},
   "outputs": [],
   "source": []
  }
 ],
 "metadata": {
  "kernelspec": {
   "display_name": "Python 3",
   "language": "python",
   "name": "python3"
  },
  "language_info": {
   "codemirror_mode": {
    "name": "ipython",
    "version": 3
   },
   "file_extension": ".py",
   "mimetype": "text/x-python",
   "name": "python",
   "nbconvert_exporter": "python",
   "pygments_lexer": "ipython3",
   "version": "3.7.4"
  }
 },
 "nbformat": 4,
 "nbformat_minor": 2
}
